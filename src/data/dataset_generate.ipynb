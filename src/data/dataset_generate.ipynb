{
 "cells": [
  {
   "cell_type": "markdown",
   "id": "b715b0f7",
   "metadata": {},
   "source": [
    "# Training dataset - Generator\n",
    "This script can be used to pregenerate segmentated train/test splits and save it to ./data/ directory. Since datasets are large, it is recomended to pregenerate before training the actuall models."
   ]
  },
  {
   "cell_type": "code",
   "execution_count": 1,
   "id": "39e41fee",
   "metadata": {},
   "outputs": [],
   "source": [
    "# -*- coding: utf-8 -*-\n",
    "import sys\n",
    "import os\n",
    "\n",
    "# Manually specify the path to the src folder\n",
    "sys.path.append(os.path.abspath('../'))\n",
    "\n",
    "from core.loader import Loader, DataMannager"
   ]
  },
  {
   "cell_type": "markdown",
   "id": "b1258a0e",
   "metadata": {},
   "source": [
    "# Load input datasets"
   ]
  },
  {
   "cell_type": "code",
   "execution_count": 2,
   "id": "17229825",
   "metadata": {},
   "outputs": [],
   "source": [
    "\n",
    "# #############################################################\n",
    "# EDIT this to specify benign / malicious datasets to use     #\n",
    "# #############################################################\n",
    "benign_dataset_filenames = [\n",
    "    '../parkets/benign/benign_2312_anonymized_HTML.parquet', \n",
    "    '../parkets/benign/umbrella_benign_FINISHED_HTML.parquet'\n",
    "        \n",
    "]\n",
    "malicious_dataset_filenames = [\n",
    "    '../parkets/phishing_2406_strict_HTML.parquet'\n",
    "]\n",
    "\n",
    "# #############################################################\n",
    "# EDIT this for to set appropriate labels (malware, dga, ...) #\n",
    "# #############################################################\n",
    "benign_label = \"benign\"\n",
    "malicious_label = \"phishing\"\n",
    "# #############################################################\n",
    "\n",
    "class_map = {benign_label: 0, malicious_label: 1}\n",
    "# print labels from malicious datasets\n",
    "\n",
    "loader = Loader(benign_dataset_filenames, malicious_dataset_filenames, benign_label=benign_label, malicious_label=malicious_label, subsample=1.0)\n",
    "\n",
    "# dump columns names to text file\n",
    "dm = DataMannager(loader, class_map)\n"
   ]
  },
  {
   "cell_type": "markdown",
   "id": "bfee8986",
   "metadata": {},
   "source": [
    "### Generate subsets of the training dataset"
   ]
  },
  {
   "cell_type": "code",
   "execution_count": null,
   "id": "6b073c6f",
   "metadata": {},
   "outputs": [],
   "source": [
    "# Initialize the DataManager that handles all the preprocessing\n",
    "dm.load()\n",
    "\n",
    "# Define aggregates to be used for the segmentation\n",
    "aggregates = [\n",
    "            [\"lex_\"],\n",
    "            [\"lex_\", \"dns_\", \"ip_\", \"geo_\"],\n",
    "            [\"lex_\", \"dns_\", \"ip_\", \"tls_\", \"geo_\", \"rdap_\"],\n",
    "        ]\n",
    "\n",
    "# Process the actuall segmentation\n",
    "dm.segment(aggregates)\n"
   ]
  },
  {
   "cell_type": "code",
   "execution_count": null,
   "id": "d757e674",
   "metadata": {},
   "outputs": [],
   "source": [
    "# save data to data directory as intermidiate pickle files\n",
    "dm.save_data()"
   ]
  }
 ],
 "metadata": {
  "kernelspec": {
   "display_name": "Python 3",
   "language": "python",
   "name": "python3"
  },
  "language_info": {
   "codemirror_mode": {
    "name": "ipython",
    "version": 3
   },
   "file_extension": ".py",
   "mimetype": "text/x-python",
   "name": "python",
   "nbconvert_exporter": "python",
   "pygments_lexer": "ipython3",
   "version": "3.10.12"
  }
 },
 "nbformat": 4,
 "nbformat_minor": 5
}
