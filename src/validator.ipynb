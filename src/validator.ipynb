{
 "cells": [
  {
   "cell_type": "code",
   "execution_count": 1,
   "metadata": {},
   "outputs": [
    {
     "name": "stderr",
     "output_type": "stream",
     "text": [
      "2025-05-13 12:12:13.550607: E external/local_xla/xla/stream_executor/cuda/cuda_dnn.cc:9261] Unable to register cuDNN factory: Attempting to register factory for plugin cuDNN when one has already been registered\n",
      "2025-05-13 12:12:13.550646: E external/local_xla/xla/stream_executor/cuda/cuda_fft.cc:607] Unable to register cuFFT factory: Attempting to register factory for plugin cuFFT when one has already been registered\n",
      "2025-05-13 12:12:13.588893: E external/local_xla/xla/stream_executor/cuda/cuda_blas.cc:1515] Unable to register cuBLAS factory: Attempting to register factory for plugin cuBLAS when one has already been registered\n",
      "2025-05-13 12:12:13.668296: I tensorflow/core/platform/cpu_feature_guard.cc:182] This TensorFlow binary is optimized to use available CPU instructions in performance-critical operations.\n",
      "To enable the following instructions: AVX2 FMA, in other operations, rebuild TensorFlow with the appropriate compiler flags.\n",
      "2025-05-13 12:12:14.646440: W tensorflow/compiler/tf2tensorrt/utils/py_utils.cc:38] TF-TRT Warning: Could not find TensorRT\n"
     ]
    },
    {
     "name": "stdout",
     "output_type": "stream",
     "text": [
      "\n"
     ]
    },
    {
     "name": "stderr",
     "output_type": "stream",
     "text": [
      "Using `tqdm.autonotebook.tqdm` in notebook mode. Use `tqdm.tqdm` instead to force console mode (e.g. in jupyter console)\n",
      "2025-05-13 12:12:18.665352: E external/local_xla/xla/stream_executor/cuda/cuda_driver.cc:274] failed call to cuInit: CUDA_ERROR_COMPAT_NOT_SUPPORTED_ON_DEVICE: forward compatibility was attempted on non supported HW\n",
      "2025-05-13 12:12:18.665376: I external/local_xla/xla/stream_executor/cuda/cuda_diagnostics.cc:129] retrieving CUDA diagnostic information for host: poli\n",
      "2025-05-13 12:12:18.665381: I external/local_xla/xla/stream_executor/cuda/cuda_diagnostics.cc:136] hostname: poli\n",
      "2025-05-13 12:12:18.665480: I external/local_xla/xla/stream_executor/cuda/cuda_diagnostics.cc:159] libcuda reported version is: 570.133.7\n",
      "2025-05-13 12:12:18.665500: I external/local_xla/xla/stream_executor/cuda/cuda_diagnostics.cc:163] kernel reported version is: NOT_FOUND: could not find kernel module information in driver version file contents: \"NVRM version: NVIDIA UNIX Open Kernel Module for x86_64  570.86.10  Release Build  (dvs-builder@U16-I3-B16-4-3)  Thu Jan 16 03:40:42 UTC 2025\n",
      "GCC version:  gcc version 12.3.0 (Ubuntu 12.3.0-1ubuntu1~22.04) \n",
      "\"\n",
      "CUDA initialization: Unexpected error from cudaGetDeviceCount(). Did you run some cuda functions before calling NumCudaDevices() that might have already set an error? Error 804: forward compatibility was attempted on non supported HW (Triggered internally at ../c10/cuda/CUDAFunctions.cpp:109.)\n"
     ]
    }
   ],
   "source": [
    "import numpy as np\n",
    "import tensorflow as tf\n",
    "import torch\n",
    "import torch.nn as nn\n",
    "import torch.nn.functional as F\n",
    "import sys\n",
    "\n",
    "import pyarrow as pa\n",
    "import pyarrow.parquet as pq\n",
    "import pandas as pd\n",
    "from pandas import DataFrame\n",
    "from pandas.core.dtypes import common as com\n",
    "from core.loader import Loader\n",
    "from models.model_wrapper import ModelWrapper\n",
    "from core.validator import ModelValidator, load_saved_split, load_train_split\n",
    "\n",
    "from tensorflow.python.client import device_lib\n",
    "\n",
    "for device in device_lib.list_local_devices():\n",
    "    print(device.physical_device_desc)\n",
    "\n",
    "device = torch.device(\"cuda:0\" if torch.cuda.is_available() else \"cpu\")\n",
    "\n",
    "# TODO: Zkusit 3 stupně na NN, SVM a porovnat s LightGBM + XGBoost\n",
    "\n",
    "# 4 x Malware\n",
    "# 4x  Phishing\n",
    "# + DGA (jeden stupen)"
   ]
  },
  {
   "cell_type": "code",
   "execution_count": null,
   "metadata": {},
   "outputs": [
    {
     "name": "stdout",
     "output_type": "stream",
     "text": [
      "📦 Loading model from models/attention_tls_stage_3_malware_v1.1.keras\n",
      "\n",
      "🔍 Starting model evaluation...\n",
      "X_test shape: (370, 176)\n",
      "Scaled and selected attention_tls input features\n",
      "12/12 [==============================] - 0s 970us/step\n",
      "\n",
      "📊 Saving evaluation metrics to .tex and CF matrix\n",
      "\n",
      "📋 Evaluation Summary:\n",
      "+---------------------------+----------+\n",
      "| Metric                    |    Value |\n",
      "+===========================+==========+\n",
      "| Accuracy                  |   0.4892 |\n",
      "+---------------------------+----------+\n",
      "| Precision                 |   0.1058 |\n",
      "+---------------------------+----------+\n",
      "| Recall                    |   0.8800 |\n",
      "+---------------------------+----------+\n",
      "| F1 Score                  |   0.1888 |\n",
      "+---------------------------+----------+\n",
      "| ROC AUC                   |   0.6704 |\n",
      "+---------------------------+----------+\n",
      "| True Negatives (TN)       | 159.0000 |\n",
      "+---------------------------+----------+\n",
      "| False Positives (FP)      | 186.0000 |\n",
      "+---------------------------+----------+\n",
      "| False Negatives (FN)      |   3.0000 |\n",
      "+---------------------------+----------+\n",
      "| True Positives (TP)       |  22.0000 |\n",
      "+---------------------------+----------+\n",
      "| False Positive Rate (FPR) |   0.5391 |\n",
      "+---------------------------+----------+\n",
      "| True Positive Rate (TPR)  |   0.8800 |\n",
      "+---------------------------+----------+\n",
      "📄 Metrics table appended to ./tex_sources/evaluation_metrics.tex\n"
     ]
    },
    {
     "name": "stderr",
     "output_type": "stream",
     "text": [
      "X does not have valid feature names, but StandardScaler was fitted with feature names\n"
     ]
    },
    {
     "name": "stdout",
     "output_type": "stream",
     "text": [
      "🖼️ Confusion matrix plot saved to: confusion/attention_tls_stage_3_malware_v1.1_verification_confusion_matrix.png\n",
      "\n",
      "\n",
      "📝 Classification Report:\n",
      "              precision    recall  f1-score   support\n",
      "\n",
      "           0   0.981481  0.460870  0.627219       345\n",
      "           1   0.105769  0.880000  0.188841        25\n",
      "\n",
      "    accuracy                       0.489189       370\n",
      "   macro avg   0.543625  0.670435  0.408030       370\n",
      "weighted avg   0.922312  0.489189  0.597599       370\n",
      "\n"
     ]
    }
   ],
   "source": [
    "model_wrapper = ModelWrapper(model_dir=\"models\")\n",
    "from core.validator import ModelValidator, load_saved_split, load_train_split\n",
    "\n",
    "\n",
    "# ARCH_NAME = \"cnn\" \n",
    "#ARCH_NAME = \"XgBoost\" \n",
    "#ARCH_NAME = \"Lgbm\"\n",
    "ARCH_NAME = \"attention_tls\"\n",
    "VERSION = \"v1.1\"\n",
    "#VERSION = \"v1.0\"\n",
    "malicious_label = \"phishing\"\n",
    "stage = 3\n",
    "verification = True\n",
    "\n",
    "\n",
    "#prefix=f\"tls_agg\"\n",
    "prefix=f\"stage_{stage}\"\n",
    "\n",
    "model = model_wrapper.load(arch_name=ARCH_NAME, label=malicious_label, prefix=prefix, version=VERSION)\n",
    "\n",
    "x_test, y_test = load_saved_split(stage, label=malicious_label, folder=\"./data/\", verification=verification)\n",
    "\n",
    "\n",
    "\n",
    "# Initialize validator class\n",
    "validator = ModelValidator(model, x_test, y_test, arch_name=ARCH_NAME, label=malicious_label, prefix=f\"stage_{stage}\", version=VERSION, verification=verification, stage=stage)  \n",
    "\n",
    "\n",
    "\n",
    "validator.evaluate_performance(save_results = True)\n"
   ]
  },
  {
   "cell_type": "code",
   "execution_count": null,
   "metadata": {},
   "outputs": [],
   "source": []
  },
  {
   "cell_type": "markdown",
   "metadata": {},
   "source": [
    "## Run Verification / Validation for all models \n",
    "- Generates Confusion Matrices\n",
    "- Generates Classification Reports\n",
    "- Generates .TEX table and all the measurement data "
   ]
  },
  {
   "cell_type": "code",
   "execution_count": null,
   "metadata": {},
   "outputs": [],
   "source": [
    "model_wrapper = ModelWrapper(model_dir=\"models\")\n",
    "architectures = [\"XgBoost\"]\n",
    "\n",
    "# , \"XgBoost\", \"Lgbm\"\n",
    "\n",
    "malicious_labels = [\"phishing\"]\n",
    "stages = [1, 2, 3]\n",
    "VERSION = \"v1.1\"\n",
    "verification = False\n",
    "\n",
    "for architecture in architectures:       \n",
    "    for malicious_label in malicious_labels:\n",
    "        for stage in stages:\n",
    "            model = model_wrapper.load(arch_name=architecture, label=malicious_label, prefix=f\"stage_{stage}\", version=VERSION)\n",
    "            x_test, y_test = load_saved_split(stage, malicious_label, folder=\"./data/\", verification=verification)\n",
    "            \n",
    "            # print number of columns for x_test\n",
    "            print(f\"Number of columns in x_test: {x_test.shape[1]}\")\n",
    "            \n",
    "            # # take only the first 1000 samples\n",
    "            # x_test = x_test[:1000]\n",
    "            # y_test = y_test[:1000]\n",
    "            \n",
    "            # validator = ModelValidator(model, x_test, y_test, arch_name=architecture, label=malicious_label, prefix=f\"stage_{stage}\", version=VERSION, verification=verification, stage=stage)  \n",
    "            # validator.evaluate_performance()\n",
    "            "
   ]
  }
 ],
 "metadata": {
  "kernelspec": {
   "display_name": "Python 3",
   "language": "python",
   "name": "python3"
  },
  "language_info": {
   "codemirror_mode": {
    "name": "ipython",
    "version": 3
   },
   "file_extension": ".py",
   "mimetype": "text/x-python",
   "name": "python",
   "nbconvert_exporter": "python",
   "pygments_lexer": "ipython3",
   "version": "3.10.12"
  }
 },
 "nbformat": 4,
 "nbformat_minor": 2
}
