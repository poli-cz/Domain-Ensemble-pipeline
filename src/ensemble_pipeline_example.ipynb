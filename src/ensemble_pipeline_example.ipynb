{
 "cells": [
  {
   "cell_type": "markdown",
   "metadata": {},
   "source": [
    "# Ensemble Classification Pipeline Example\n",
    "\n",
    "This notebook demonstrates how to use the trained domain classification pipeline to make predictions.  \n",
    "It supports both label prediction and probability estimation, with optional SHAP explanations.  \n",
    "The first section shows how to classify a small batch of domains interactively;  \n",
    "the second one computes performance metrics across the entire test dataset.\n"
   ]
  },
  {
   "cell_type": "code",
   "execution_count": null,
   "metadata": {},
   "outputs": [],
   "source": [
    "# Import necessary modules\n",
    "import sys\n",
    "\n",
    "from core.validator import load_saved_split, load_train_split, load_random_sample\n",
    "from pipeline import DomainClassifier\n"
   ]
  },
  {
   "cell_type": "markdown",
   "metadata": {},
   "source": [
    "### Set label and dataset"
   ]
  },
  {
   "cell_type": "code",
   "execution_count": null,
   "metadata": {},
   "outputs": [],
   "source": [
    "MALICIOUS_LABEL = \"phishing\"  # phishing / malware\n",
    "STAGE = 3                     # 1 / 2 / 3\n",
    "VERIFICATION = True           # True / False, use verification dataset of validation dataset"
   ]
  },
  {
   "cell_type": "markdown",
   "metadata": {},
   "source": [
    "### Classification pipeline demonstration"
   ]
  },
  {
   "cell_type": "code",
   "execution_count": null,
   "metadata": {},
   "outputs": [],
   "source": [
    "\n",
    "\n",
    "# Load saved verification data\n",
    "x_test, y_test = load_saved_split(STAGE, MALICIOUS_LABEL, folder=\"./data/\", verification=VERIFICATION)\n",
    "\n",
    "# Initialize classifier\n",
    "DomainClassifier = DomainClassifier(data_sample=x_test, label=MALICIOUS_LABEL)\n",
    "DomainClassifier.determine_stage(x_test)\n",
    "\n",
    "# Initialize confusion matrix counters\n",
    "fp, fn, tp, tn = 0, 0, 0, 0\n",
    "\n",
    "# Classify domains one by one\n",
    "for domain, expected_label in zip(x_test, y_test):\n",
    "    # Get final prediction probability\n",
    "    final_class = DomainClassifier.classify_proba(domain)['final_proba']\n",
    "    print(f\"Final Class: {final_class} Expected: {expected_label}\")\n",
    "    input()  # Pause for user review (optional)\n"
   ]
  }
 ],
 "metadata": {
  "kernelspec": {
   "display_name": "Python 3",
   "language": "python",
   "name": "python3"
  },
  "language_info": {
   "codemirror_mode": {
    "name": "ipython",
    "version": 3
   },
   "file_extension": ".py",
   "mimetype": "text/x-python",
   "name": "python",
   "nbconvert_exporter": "python",
   "pygments_lexer": "ipython3",
   "version": "3.10.12"
  }
 },
 "nbformat": 4,
 "nbformat_minor": 2
}
