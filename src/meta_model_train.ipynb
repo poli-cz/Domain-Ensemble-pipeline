{
 "cells": [
  {
   "cell_type": "code",
   "execution_count": 1,
   "metadata": {},
   "outputs": [
    {
     "name": "stderr",
     "output_type": "stream",
     "text": [
      "2025-05-04 21:42:37.962640: E external/local_xla/xla/stream_executor/cuda/cuda_dnn.cc:9261] Unable to register cuDNN factory: Attempting to register factory for plugin cuDNN when one has already been registered\n",
      "2025-05-04 21:42:37.962672: E external/local_xla/xla/stream_executor/cuda/cuda_fft.cc:607] Unable to register cuFFT factory: Attempting to register factory for plugin cuFFT when one has already been registered\n",
      "2025-05-04 21:42:37.963798: E external/local_xla/xla/stream_executor/cuda/cuda_blas.cc:1515] Unable to register cuBLAS factory: Attempting to register factory for plugin cuBLAS when one has already been registered\n",
      "2025-05-04 21:42:37.969537: I tensorflow/core/platform/cpu_feature_guard.cc:182] This TensorFlow binary is optimized to use available CPU instructions in performance-critical operations.\n",
      "To enable the following instructions: AVX2 FMA, in other operations, rebuild TensorFlow with the appropriate compiler flags.\n",
      "2025-05-04 21:42:38.862913: W tensorflow/compiler/tf2tensorrt/utils/py_utils.cc:38] TF-TRT Warning: Could not find TensorRT\n"
     ]
    },
    {
     "name": "stdout",
     "output_type": "stream",
     "text": [
      "\n",
      "device: 0, name: NVIDIA GeForce RTX 3050 Ti Laptop GPU, pci bus id: 0000:01:00.0, compute capability: 8.6\n"
     ]
    },
    {
     "name": "stderr",
     "output_type": "stream",
     "text": [
      "2025-05-04 21:42:41.943196: I external/local_xla/xla/stream_executor/cuda/cuda_executor.cc:901] successful NUMA node read from SysFS had negative value (-1), but there must be at least one NUMA node, so returning NUMA node zero. See more at https://github.com/torvalds/linux/blob/v6.0/Documentation/ABI/testing/sysfs-bus-pci#L344-L355\n",
      "2025-05-04 21:42:42.005860: I external/local_xla/xla/stream_executor/cuda/cuda_executor.cc:901] successful NUMA node read from SysFS had negative value (-1), but there must be at least one NUMA node, so returning NUMA node zero. See more at https://github.com/torvalds/linux/blob/v6.0/Documentation/ABI/testing/sysfs-bus-pci#L344-L355\n",
      "2025-05-04 21:42:42.008684: I external/local_xla/xla/stream_executor/cuda/cuda_executor.cc:901] successful NUMA node read from SysFS had negative value (-1), but there must be at least one NUMA node, so returning NUMA node zero. See more at https://github.com/torvalds/linux/blob/v6.0/Documentation/ABI/testing/sysfs-bus-pci#L344-L355\n",
      "2025-05-04 21:42:42.119786: I external/local_xla/xla/stream_executor/cuda/cuda_executor.cc:901] successful NUMA node read from SysFS had negative value (-1), but there must be at least one NUMA node, so returning NUMA node zero. See more at https://github.com/torvalds/linux/blob/v6.0/Documentation/ABI/testing/sysfs-bus-pci#L344-L355\n",
      "2025-05-04 21:42:42.121084: I external/local_xla/xla/stream_executor/cuda/cuda_executor.cc:901] successful NUMA node read from SysFS had negative value (-1), but there must be at least one NUMA node, so returning NUMA node zero. See more at https://github.com/torvalds/linux/blob/v6.0/Documentation/ABI/testing/sysfs-bus-pci#L344-L355\n",
      "2025-05-04 21:42:42.122311: I external/local_xla/xla/stream_executor/cuda/cuda_executor.cc:901] successful NUMA node read from SysFS had negative value (-1), but there must be at least one NUMA node, so returning NUMA node zero. See more at https://github.com/torvalds/linux/blob/v6.0/Documentation/ABI/testing/sysfs-bus-pci#L344-L355\n",
      "2025-05-04 21:42:42.123523: I tensorflow/core/common_runtime/gpu/gpu_device.cc:1929] Created device /device:GPU:0 with 841 MB memory:  -> device: 0, name: NVIDIA GeForce RTX 3050 Ti Laptop GPU, pci bus id: 0000:01:00.0, compute capability: 8.6\n"
     ]
    }
   ],
   "source": [
    "import numpy as np\n",
    "import tensorflow as tf\n",
    "import torch\n",
    "import torch.nn as nn\n",
    "import torch.nn.functional as F\n",
    "import sys\n",
    "\n",
    "import pyarrow as pa\n",
    "import pyarrow.parquet as pq\n",
    "import pandas as pd\n",
    "from pandas import DataFrame\n",
    "from pandas.core.dtypes import common as com\n",
    "from core.loader import Loader\n",
    "\n",
    "from models.model_wrapper import ModelWrapper\n",
    "\n",
    "from tensorflow.python.client import device_lib\n",
    "\n",
    "for device in device_lib.list_local_devices():\n",
    "    print(device.physical_device_desc)\n",
    "\n",
    "device = torch.device(\"cuda:0\" if torch.cuda.is_available() else \"cpu\")\n",
    "\n",
    "# TODO: Zkusit 3 stupně na NN, SVM a porovnat s LightGBM + XGBoost\n",
    "\n",
    "# 4 x Malware\n",
    "# 4x  Phishing\n",
    "# + DGA (jeden stupen)"
   ]
  },
  {
   "cell_type": "code",
   "execution_count": null,
   "metadata": {},
   "outputs": [
    {
     "name": "stderr",
     "output_type": "stream",
     "text": [
      "2025-05-05 11:24:06.717787: E external/local_xla/xla/stream_executor/cuda/cuda_dnn.cc:9261] Unable to register cuDNN factory: Attempting to register factory for plugin cuDNN when one has already been registered\n",
      "2025-05-05 11:24:06.717816: E external/local_xla/xla/stream_executor/cuda/cuda_fft.cc:607] Unable to register cuFFT factory: Attempting to register factory for plugin cuFFT when one has already been registered\n",
      "2025-05-05 11:24:06.733239: E external/local_xla/xla/stream_executor/cuda/cuda_blas.cc:1515] Unable to register cuBLAS factory: Attempting to register factory for plugin cuBLAS when one has already been registered\n",
      "2025-05-05 11:24:06.816037: I tensorflow/core/platform/cpu_feature_guard.cc:182] This TensorFlow binary is optimized to use available CPU instructions in performance-critical operations.\n",
      "To enable the following instructions: AVX2 FMA, in other operations, rebuild TensorFlow with the appropriate compiler flags.\n",
      "2025-05-05 11:24:07.863216: W tensorflow/compiler/tf2tensorrt/utils/py_utils.cc:38] TF-TRT Warning: Could not find TensorRT\n"
     ]
    },
    {
     "name": "stdout",
     "output_type": "stream",
     "text": [
      "3 phishing ./data/\n",
      "Columns: Index(['dns_has_dnskey', 'dns_A_count', 'dns_AAAA_count', 'dns_MX_count',\n",
      "       'dns_NS_count', 'dns_TXT_count', 'dns_SOA_count', 'dns_CNAME_count',\n",
      "       'dns_zone_level', 'dns_zone_digit_count',\n",
      "       ...\n",
      "       'rdap_ip_v4_count', 'rdap_ip_v6_count',\n",
      "       'rdap_ip_shortest_v4_prefix_len', 'rdap_ip_longest_v4_prefix_len',\n",
      "       'rdap_ip_shortest_v6_prefix_len', 'rdap_ip_longest_v6_prefix_len',\n",
      "       'rdap_ip_avg_admin_name_len', 'rdap_ip_avg_admin_name_entropy',\n",
      "       'rdap_ip_avg_admin_email_len', 'rdap_ip_avg_admin_email_entropy'],\n",
      "      dtype='object', length=176)\n",
      "3 phishing ./data/\n",
      "📦 Loading model from models/cnn_stage_3_phishing_v1.1.keras\n"
     ]
    },
    {
     "name": "stderr",
     "output_type": "stream",
     "text": [
      "2025-05-05 11:24:41.028501: I external/local_xla/xla/stream_executor/cuda/cuda_executor.cc:901] successful NUMA node read from SysFS had negative value (-1), but there must be at least one NUMA node, so returning NUMA node zero. See more at https://github.com/torvalds/linux/blob/v6.0/Documentation/ABI/testing/sysfs-bus-pci#L344-L355\n",
      "2025-05-05 11:24:41.176700: I external/local_xla/xla/stream_executor/cuda/cuda_executor.cc:901] successful NUMA node read from SysFS had negative value (-1), but there must be at least one NUMA node, so returning NUMA node zero. See more at https://github.com/torvalds/linux/blob/v6.0/Documentation/ABI/testing/sysfs-bus-pci#L344-L355\n",
      "2025-05-05 11:24:41.179673: I external/local_xla/xla/stream_executor/cuda/cuda_executor.cc:901] successful NUMA node read from SysFS had negative value (-1), but there must be at least one NUMA node, so returning NUMA node zero. See more at https://github.com/torvalds/linux/blob/v6.0/Documentation/ABI/testing/sysfs-bus-pci#L344-L355\n",
      "2025-05-05 11:24:41.185207: I external/local_xla/xla/stream_executor/cuda/cuda_executor.cc:901] successful NUMA node read from SysFS had negative value (-1), but there must be at least one NUMA node, so returning NUMA node zero. See more at https://github.com/torvalds/linux/blob/v6.0/Documentation/ABI/testing/sysfs-bus-pci#L344-L355\n",
      "2025-05-05 11:24:41.188015: I external/local_xla/xla/stream_executor/cuda/cuda_executor.cc:901] successful NUMA node read from SysFS had negative value (-1), but there must be at least one NUMA node, so returning NUMA node zero. See more at https://github.com/torvalds/linux/blob/v6.0/Documentation/ABI/testing/sysfs-bus-pci#L344-L355\n",
      "2025-05-05 11:24:41.190821: I external/local_xla/xla/stream_executor/cuda/cuda_executor.cc:901] successful NUMA node read from SysFS had negative value (-1), but there must be at least one NUMA node, so returning NUMA node zero. See more at https://github.com/torvalds/linux/blob/v6.0/Documentation/ABI/testing/sysfs-bus-pci#L344-L355\n",
      "2025-05-05 11:24:41.343566: I external/local_xla/xla/stream_executor/cuda/cuda_executor.cc:901] successful NUMA node read from SysFS had negative value (-1), but there must be at least one NUMA node, so returning NUMA node zero. See more at https://github.com/torvalds/linux/blob/v6.0/Documentation/ABI/testing/sysfs-bus-pci#L344-L355\n",
      "2025-05-05 11:24:41.345031: I external/local_xla/xla/stream_executor/cuda/cuda_executor.cc:901] successful NUMA node read from SysFS had negative value (-1), but there must be at least one NUMA node, so returning NUMA node zero. See more at https://github.com/torvalds/linux/blob/v6.0/Documentation/ABI/testing/sysfs-bus-pci#L344-L355\n",
      "2025-05-05 11:24:41.346371: I external/local_xla/xla/stream_executor/cuda/cuda_executor.cc:901] successful NUMA node read from SysFS had negative value (-1), but there must be at least one NUMA node, so returning NUMA node zero. See more at https://github.com/torvalds/linux/blob/v6.0/Documentation/ABI/testing/sysfs-bus-pci#L344-L355\n",
      "2025-05-05 11:24:41.347937: I tensorflow/core/common_runtime/gpu/gpu_device.cc:1929] Created device /job:localhost/replica:0/task:0/device:GPU:0 with 1106 MB memory:  -> device: 0, name: NVIDIA GeForce RTX 3050 Ti Laptop GPU, pci bus id: 0000:01:00.0, compute capability: 8.6\n",
      "/home/poli/.local/lib/python3.10/site-packages/sklearn/base.py:493: UserWarning: X does not have valid feature names, but StandardScaler was fitted with feature names\n",
      "  warnings.warn(\n"
     ]
    },
    {
     "name": "stdout",
     "output_type": "stream",
     "text": [
      "[CNN] X_test reshaped to (89098, 14, 14, 1) (side 14, padded by 20)\n"
     ]
    },
    {
     "name": "stderr",
     "output_type": "stream",
     "text": [
      "2025-05-05 11:24:43.472702: I external/local_xla/xla/stream_executor/cuda/cuda_dnn.cc:454] Loaded cuDNN version 8902\n"
     ]
    },
    {
     "name": "stdout",
     "output_type": "stream",
     "text": [
      "2785/2785 [==============================] - 4s 1ms/step\n"
     ]
    },
    {
     "name": "stderr",
     "output_type": "stream",
     "text": [
      "/home/poli/.local/lib/python3.10/site-packages/sklearn/base.py:493: UserWarning: X does not have valid feature names, but StandardScaler was fitted with feature names\n",
      "  warnings.warn(\n"
     ]
    },
    {
     "name": "stdout",
     "output_type": "stream",
     "text": [
      "[CNN] X_test reshaped to (98906, 14, 14, 1) (side 14, padded by 20)\n",
      "3091/3091 [==============================] - 3s 1ms/step\n",
      "📦 Loading model from models/XgBoost_stage_3_phishing_v1.1.xgb\n",
      "📦 Loading model from models/Lgbm_stage_3_phishing_v1.1.pkl\n",
      "📦 Loading model from models/feedforward_stage_3_phishing_v1.1.keras\n"
     ]
    },
    {
     "name": "stderr",
     "output_type": "stream",
     "text": [
      "/home/poli/.local/lib/python3.10/site-packages/sklearn/base.py:493: UserWarning: X does not have valid feature names, but StandardScaler was fitted with feature names\n",
      "  warnings.warn(\n"
     ]
    },
    {
     "name": "stdout",
     "output_type": "stream",
     "text": [
      "2785/2785 [==============================] - 3s 913us/step\n"
     ]
    },
    {
     "name": "stderr",
     "output_type": "stream",
     "text": [
      "/home/poli/.local/lib/python3.10/site-packages/sklearn/base.py:493: UserWarning: X does not have valid feature names, but StandardScaler was fitted with feature names\n",
      "  warnings.warn(\n"
     ]
    },
    {
     "name": "stdout",
     "output_type": "stream",
     "text": [
      "3091/3091 [==============================] - 3s 876us/step\n",
      "📦 Loading model from models/svm_stage_3_phishing_v1.1.pkl\n",
      "🔄 Detected SVM, using: scalers/phishing_svm_3_scaler.joblib scaler\n"
     ]
    },
    {
     "name": "stderr",
     "output_type": "stream",
     "text": [
      "/home/poli/.local/lib/python3.10/site-packages/sklearn/base.py:493: UserWarning: X does not have valid feature names, but StandardScaler was fitted with feature names\n",
      "  warnings.warn(\n"
     ]
    },
    {
     "name": "stdout",
     "output_type": "stream",
     "text": [
      "🔄 Detected SVM, using: scalers/phishing_svm_3_scaler.joblib scaler\n"
     ]
    },
    {
     "name": "stderr",
     "output_type": "stream",
     "text": [
      "/home/poli/.local/lib/python3.10/site-packages/sklearn/base.py:493: UserWarning: X does not have valid feature names, but StandardScaler was fitted with feature names\n",
      "  warnings.warn(\n"
     ]
    },
    {
     "name": "stdout",
     "output_type": "stream",
     "text": [
      "Epoch 1/15\n"
     ]
    },
    {
     "name": "stderr",
     "output_type": "stream",
     "text": [
      "2025-05-05 11:36:06.305896: I external/local_xla/xla/service/service.cc:168] XLA service 0x772368194190 initialized for platform CUDA (this does not guarantee that XLA will be used). Devices:\n",
      "2025-05-05 11:36:06.305918: I external/local_xla/xla/service/service.cc:176]   StreamExecutor device (0): NVIDIA GeForce RTX 3050 Ti Laptop GPU, Compute Capability 8.6\n",
      "2025-05-05 11:36:06.318755: I tensorflow/compiler/mlir/tensorflow/utils/dump_mlir_util.cc:269] disabling MLIR crash reproducer, set env var `MLIR_CRASH_REPRODUCER_DIRECTORY` to enable.\n",
      "WARNING: All log messages before absl::InitializeLog() is called are written to STDERR\n",
      "I0000 00:00:1746437766.414982  629130 device_compiler.h:186] Compiled cluster using XLA!  This line is logged at most once for the lifetime of the process.\n"
     ]
    },
    {
     "name": "stdout",
     "output_type": "stream",
     "text": [
      "1114/1114 [==============================] - 4s 2ms/step - loss: 0.0147 - accuracy: 0.9975 - val_loss: 0.0268 - val_accuracy: 0.9968\n",
      "Epoch 2/15\n",
      "1114/1114 [==============================] - 2s 2ms/step - loss: 9.4127e-04 - accuracy: 0.9998 - val_loss: 0.0297 - val_accuracy: 0.9968\n",
      "Epoch 3/15\n",
      "1114/1114 [==============================] - 2s 2ms/step - loss: 5.4951e-04 - accuracy: 0.9999 - val_loss: 0.0305 - val_accuracy: 0.9968\n",
      "Epoch 4/15\n",
      "1114/1114 [==============================] - 2s 2ms/step - loss: 5.1641e-04 - accuracy: 0.9999 - val_loss: 0.0350 - val_accuracy: 0.9968\n",
      "Epoch 5/15\n",
      "1114/1114 [==============================] - 2s 2ms/step - loss: 3.7503e-04 - accuracy: 0.9999 - val_loss: 0.0324 - val_accuracy: 0.9968\n",
      "Epoch 6/15\n",
      "1114/1114 [==============================] - 3s 3ms/step - loss: 4.1574e-04 - accuracy: 0.9999 - val_loss: 0.0380 - val_accuracy: 0.9968\n",
      "Epoch 1/12\n",
      "1114/1114 [==============================] - 3s 2ms/step - loss: 0.0118 - accuracy: 0.9983 - val_loss: 0.0079 - val_accuracy: 0.9989\n",
      "Epoch 2/12\n",
      "1114/1114 [==============================] - 3s 2ms/step - loss: 0.0070 - accuracy: 0.9989 - val_loss: 0.0072 - val_accuracy: 0.9989\n",
      "Epoch 3/12\n",
      "1114/1114 [==============================] - 2s 2ms/step - loss: 0.0059 - accuracy: 0.9990 - val_loss: 0.0075 - val_accuracy: 0.9989\n",
      "Epoch 4/12\n",
      "1114/1114 [==============================] - 2s 2ms/step - loss: 0.0055 - accuracy: 0.9991 - val_loss: 0.0075 - val_accuracy: 0.9989\n",
      "Epoch 5/12\n",
      "1114/1114 [==============================] - 3s 2ms/step - loss: 0.0052 - accuracy: 0.9989 - val_loss: 0.0078 - val_accuracy: 0.9990\n",
      "Epoch 6/12\n",
      "1114/1114 [==============================] - 3s 2ms/step - loss: 0.0047 - accuracy: 0.9991 - val_loss: 0.0083 - val_accuracy: 0.9990\n",
      "Epoch 7/12\n",
      "1114/1114 [==============================] - 2s 2ms/step - loss: 0.0045 - accuracy: 0.9991 - val_loss: 0.0090 - val_accuracy: 0.9991\n",
      "saving fp detektor as fpd_scaler_phishing_3.joblib\n",
      "\n",
      "=== Meta-NN without FPD ===\n",
      "              precision    recall  f1-score   support\n",
      "\n",
      "           0     0.9958    0.9989    0.9973     82367\n",
      "           1     0.9943    0.9791    0.9866     16539\n",
      "\n",
      "    accuracy                         0.9956     98906\n",
      "   macro avg     0.9951    0.9890    0.9920     98906\n",
      "weighted avg     0.9956    0.9956    0.9955     98906\n",
      "\n",
      "\n",
      "=== Meta-NN with FPD correction ===\n",
      "              precision    recall  f1-score   support\n",
      "\n",
      "           0     0.9958    0.9990    0.9974     82367\n",
      "           1     0.9950    0.9791    0.9870     16539\n",
      "\n",
      "    accuracy                         0.9957     98906\n",
      "   macro avg     0.9954    0.9890    0.9922     98906\n",
      "weighted avg     0.9957    0.9957    0.9957     98906\n",
      "\n",
      "\n",
      "🔍 Starting model evaluation...\n",
      "\n",
      "📊 Saving evaluation metrics to .tex and CF matrix\n",
      "\n",
      "📋 Evaluation Summary:\n",
      "+---------------------------+------------+\n",
      "| Metric                    |      Value |\n",
      "+===========================+============+\n",
      "| Accuracy                  |     0.9957 |\n",
      "+---------------------------+------------+\n",
      "| Precision                 |     0.9950 |\n",
      "+---------------------------+------------+\n",
      "| Recall                    |     0.9791 |\n",
      "+---------------------------+------------+\n",
      "| F1 Score                  |     0.9870 |\n",
      "+---------------------------+------------+\n",
      "| ROC AUC                   |     0.9890 |\n",
      "+---------------------------+------------+\n",
      "| True Negatives (TN)       | 82285.0000 |\n",
      "+---------------------------+------------+\n",
      "| False Positives (FP)      |    82.0000 |\n",
      "+---------------------------+------------+\n",
      "| False Negatives (FN)      |   346.0000 |\n",
      "+---------------------------+------------+\n",
      "| True Positives (TP)       | 16193.0000 |\n",
      "+---------------------------+------------+\n",
      "| False Positive Rate (FPR) |     0.0010 |\n",
      "+---------------------------+------------+\n",
      "| True Positive Rate (TPR)  |     0.9791 |\n",
      "+---------------------------+------------+\n",
      "📄 Metrics table appended to ./tex_sources/evaluation_metrics.tex\n",
      "🖼️ Confusion matrix plot saved to: confusion/MetaNN+FPD_NN_stage_3_phishing_v1.1_verification_confusion_matrix.png\n",
      "\n",
      "\n",
      "📝 Classification Report:\n",
      "              precision    recall  f1-score   support\n",
      "\n",
      "           0   0.995813  0.999004  0.997406     82367\n",
      "           1   0.994962  0.979080  0.986957     16539\n",
      "\n",
      "    accuracy                       0.995673     98906\n",
      "   macro avg   0.995387  0.989042  0.992181     98906\n",
      "weighted avg   0.995670  0.995673  0.995659     98906\n",
      "\n"
     ]
    }
   ],
   "source": [
    "import pickle\n",
    "import numpy as np\n",
    "import joblib\n",
    "from tqdm import tqdm\n",
    "from sklearn.metrics import classification_report\n",
    "from core.validator import ModelValidator, load_saved_split, load_train_split\n",
    "from models.model_wrapper import ModelWrapper\n",
    "from core.fpd_nn import FPDNeuralNetwork\n",
    "from core.meta_nn import MetaNeuralClassifier  # <--- new import\n",
    "from core.utils import safe_predict\n",
    "\n",
    "# === Configuration ===\n",
    "ARCHITECTURES = [\"cnn\", \"XgBoost\", \"Lgbm\", \"feedforward\",\"svm\"]\n",
    "VERSION = \"v1.1\"\n",
    "MALICIOUS_LABEL = \"phishing\"\n",
    "STAGE = 3\n",
    "VERIFICATION = True\n",
    "FPD_MODEL_PATH = \"./models/fpd_saved_model\"\n",
    "META_MODEL_PATH = \"./models/meta_nn_model\"\n",
    "\n",
    "# === Load train/test split ===\n",
    "x_train, x_test, y_train, y_test, columns = load_train_split(STAGE, MALICIOUS_LABEL)\n",
    "\n",
    "# Optionally, overwrite test set from saved split (e.g. for verification)\n",
    "x_train_additional, y_test_additional = load_saved_split(STAGE, MALICIOUS_LABEL,folder=\"./data/\", verification=VERIFICATION)\n",
    "\n",
    "\n",
    "\n",
    "# Reduce training size for speed\n",
    "x_train = x_train[:int(len(x_train) * 0.10)]\n",
    "y_train = y_train[:int(len(y_train) * 0.10)]\n",
    "\n",
    "# appedn x_train_additional to x_train\n",
    "x_train = np.vstack((x_train, x_train_additional))\n",
    "y_train = np.hstack((y_train, y_test_additional))\n",
    "\n",
    "# apend to test set\n",
    "x_test = np.vstack((x_test, x_train_additional))\n",
    "y_test = np.hstack((y_test, y_test_additional))\n",
    "\n",
    "# === Load and run base models ===\n",
    "model_wrapper = ModelWrapper(model_dir=\"models\")\n",
    "train_preds = []\n",
    "test_preds = []\n",
    "\n",
    "\n",
    "def predict(model, x, architecture, label):\n",
    "    y_pred = safe_predict(model, x, architecture, label, STAGE)\n",
    "            \n",
    "    return np.array(y_pred.flatten())\n",
    "\n",
    "for arch in ARCHITECTURES:\n",
    "    model = model_wrapper.load(\n",
    "        arch_name=arch,\n",
    "        label=MALICIOUS_LABEL,\n",
    "        prefix=f\"stage_{STAGE}\",\n",
    "        version=VERSION\n",
    "    )\n",
    "    train_preds.append(predict(model, x_train, arch, MALICIOUS_LABEL))\n",
    "    test_preds.append(predict(model, x_test, arch, MALICIOUS_LABEL))\n",
    "    \n",
    "# === Prepare Meta Model Input ===\n",
    "meta_input_train = np.hstack([\n",
    "    np.vstack(train_preds).T,     # shape: (n_samples, n_models)\n",
    "    x_train[:, :10]               # shape: (n_samples, 10)\n",
    "])\n",
    "\n",
    "meta_input_test = np.hstack([\n",
    "    np.vstack(test_preds).T,\n",
    "    x_test[:, :10]\n",
    "])\n",
    "\n",
    "\n",
    "# === Train Meta Neural Network ===\n",
    "meta_nn = MetaNeuralClassifier()\n",
    "meta_nn.fit(meta_input_train, y_train)\n",
    "\n",
    "meta_nn.save(META_MODEL_PATH, \"v1.1\")\n",
    "\n",
    "# === Train False Positive Detector ===\n",
    "ensemble_train_preds = np.round(np.mean(train_preds, axis=0)).astype(int)\n",
    "fpd_labels_train = ((ensemble_train_preds == 1) & (y_train == 0)).astype(int)\n",
    "\n",
    "fpd_nn = FPDNeuralNetwork()\n",
    "fpd_nn.fit(x_train, fpd_labels_train)\n",
    "fpd_nn.save(FPD_MODEL_PATH, MALICIOUS_LABEL, STAGE)\n",
    "\n",
    "meta_nn.load(META_MODEL_PATH, \"v1.1\")\n",
    "raw_preds = meta_nn.predict(meta_input_test)\n",
    "\n",
    "fpd_nn.load(FPD_MODEL_PATH, MALICIOUS_LABEL, STAGE)\n",
    "corrected_preds = fpd_nn.correct_predictions(raw_preds, x_test)\n",
    "\n",
    "# === Evaluation ===\n",
    "print(\"\\n=== Meta-NN without FPD ===\")\n",
    "print(classification_report(y_test, raw_preds, digits=4))\n",
    "\n",
    "print(\"\\n=== Meta-NN with FPD correction ===\")\n",
    "print(classification_report(y_test, corrected_preds, digits=4))\n",
    "\n",
    "# === ModelValidator integration ===\n",
    "final_model_wrapper = ModelWrapper(model_dir=\"models\")\n",
    "final_model_wrapper.predict = lambda x: corrected_preds\n",
    "\n",
    "validator = ModelValidator(\n",
    "    final_model_wrapper,\n",
    "    x_test,\n",
    "    y_test,\n",
    "    arch_name=\"MetaNN+FPD_NN\",\n",
    "    label=MALICIOUS_LABEL,\n",
    "    prefix=f\"stage_{STAGE}\",\n",
    "    version=VERSION,\n",
    "    verification=VERIFICATION\n",
    "    \n",
    ")\n",
    "validator.evaluate_performance()\n",
    "\n"
   ]
  }
 ],
 "metadata": {
  "kernelspec": {
   "display_name": "Python 3",
   "language": "python",
   "name": "python3"
  },
  "language_info": {
   "codemirror_mode": {
    "name": "ipython",
    "version": 3
   },
   "file_extension": ".py",
   "mimetype": "text/x-python",
   "name": "python",
   "nbconvert_exporter": "python",
   "pygments_lexer": "ipython3",
   "version": "3.10.12"
  }
 },
 "nbformat": 4,
 "nbformat_minor": 2
}
